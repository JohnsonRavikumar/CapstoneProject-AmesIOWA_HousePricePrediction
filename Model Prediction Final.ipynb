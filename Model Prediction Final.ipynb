{
 "cells": [
  {
   "cell_type": "code",
   "execution_count": 3,
   "metadata": {},
   "outputs": [],
   "source": [
    "import numpy as np\n",
    "import pandas as pd\n",
    "\n",
    "import seaborn as sns\n",
    "import matplotlib.pyplot as plt\n",
    "%matplotlib inline\n",
    "\n",
    "import pickle\n",
    "from sklearn.ensemble import BaggingRegressor\n",
    "from sklearn.ensemble import GradientBoostingRegressor\n",
    "from sklearn.model_selection import GridSearchCV,train_test_split\n",
    "from sklearn.metrics import mean_squared_error\n",
    "import warnings\n",
    "warnings.filterwarnings(\"ignore\")\n",
    "import seaborn as sns\n",
    "%matplotlib inline"
   ]
  },
  {
   "cell_type": "markdown",
   "metadata": {},
   "source": [
    "# 1. Reading the training and test data, dropping id column and seperating out the Target variable SalePrice"
   ]
  },
  {
   "cell_type": "code",
   "execution_count": 4,
   "metadata": {},
   "outputs": [],
   "source": [
    "housetraindf = pd.read_csv('train.csv')\n",
    "housetestdf = pd.read_csv('test.csv')\n",
    "train_id = housetraindf.Id\n",
    "test_id = housetestdf.Id\n",
    "target = housetraindf.SalePrice\n",
    "target = target.apply(np.log1p,1)\n",
    "housetraindf.drop(\"Id\",1,inplace=True)\n",
    "housetestdf.drop(\"Id\",1,inplace=True)\n",
    "housetraindf.drop(\"SalePrice\",1,inplace= True)\n",
    "trainmoddf = pd.concat([housetraindf,housetestdf])"
   ]
  },
  {
   "cell_type": "markdown",
   "metadata": {},
   "source": [
    "# 2. MSSubCLass and MoSold are both numeric field but should be categorical. So seperating them out before checking skewness on numeric_types. Apply log1p for all skewed data greater than .75"
   ]
  },
  {
   "cell_type": "code",
   "execution_count": 5,
   "metadata": {},
   "outputs": [],
   "source": [
    "trainmoddf.MSSubClass = trainmoddf.MSSubClass.astype(\"object\")\n",
    "trainmoddf.MoSold = trainmoddf.MoSold.astype(\"object\")"
   ]
  },
  {
   "cell_type": "code",
   "execution_count": 6,
   "metadata": {},
   "outputs": [],
   "source": [
    "numeric_types = trainmoddf.dtypes[trainmoddf.dtypes != \"object\"].index\n",
    "skewd = trainmoddf[numeric_types].columns[trainmoddf[numeric_types].skew() > 0.75]\n",
    "data_log = trainmoddf[skewd].apply(np.log1p,1)\n",
    "trainmoddf[skewd] = data_log\n",
    "trainmoddf[numeric_types] = trainmoddf[numeric_types].fillna(trainmoddf[numeric_types].median())"
   ]
  },
  {
   "cell_type": "markdown",
   "metadata": {},
   "source": [
    "# 3. Ordering Cateforical features wherever applicable"
   ]
  },
  {
   "cell_type": "code",
   "execution_count": 7,
   "metadata": {},
   "outputs": [],
   "source": [
    "# Ordering Categorical features\n",
    "trainmoddf.Street = trainmoddf.Street.replace([\"Grvl\",\"Pave\"],[1,2])\n",
    "trainmoddf.Alley = trainmoddf.Alley.replace([np.nan,\"Grvl\",\"Pave\"],[0,1,2])\n",
    "trainmoddf.LotShape = trainmoddf.LotShape.replace([\"IR3\",\"IR2\",\"IR1\",\"Reg\"],[1,2,3,4])\n",
    "trainmoddf.LandSlope = trainmoddf.LandSlope.replace([\"Sev\",\"Mod\",\"Gtl\"],[1,2,3])\n",
    "trainmoddf.ExterQual = trainmoddf.ExterQual.replace([\"Po\",\"Fa\",\"TA\",\"Gd\",\"Ex\"],[1,2,3,4,5])\n",
    "trainmoddf.ExterCond = trainmoddf.ExterCond.replace([\"Po\",\"Fa\",\"TA\",\"Gd\",\"Ex\"],[1,2,3,4,5])\n",
    "trainmoddf.BsmtQual = trainmoddf.BsmtQual.replace([np.nan,\"Po\",\"Fa\",\"TA\",\"Gd\",\"Ex\"],[0,1,2,3,4,5])\n",
    "trainmoddf.BsmtCond = trainmoddf.BsmtCond.replace([np.nan,\"Po\",\"Fa\",\"TA\",\"Gd\",\"Ex\"],[0,1,2,3,4,5])\n",
    "trainmoddf.BsmtExposure = trainmoddf.BsmtExposure.replace([np.nan,\"No\",\"Mn\",\"Av\",\"Gd\"],[0,1,2,3,4])\n",
    "trainmoddf.BsmtFinType1 = trainmoddf.BsmtFinType1.replace([np.nan,\"Unf\",\"LwQ\",\"Rec\",\"BLQ\",\"ALQ\",\"GLQ\"],\n",
    "                                              [0,1,2,3,4,5,6])\n",
    "trainmoddf.BsmtFinType2 = trainmoddf.BsmtFinType2.replace([np.nan,\"Unf\",\"LwQ\",\"Rec\",\"BLQ\",\"ALQ\",\"GLQ\"],\n",
    "                                              [0,1,2,3,4,5,6])\n",
    "trainmoddf.HeatingQC = trainmoddf.HeatingQC.replace([\"Po\",\"Fa\",\"TA\",\"Gd\",\"Ex\"],[1,2,3,4,5])\n",
    "trainmoddf.CentralAir = trainmoddf.CentralAir.replace(['N','Y'],[0,1])\n",
    "trainmoddf.KitchenQual = trainmoddf.KitchenQual.replace([\"Po\",\"Fa\",\"TA\",\"Gd\",\"Ex\"],[1,2,3,4,5])\n",
    "trainmoddf.Functional = trainmoddf.Functional.replace([np.nan,\"Sal\",\"Sev\",\"Maj2\",\"Maj1\",\"Mod\",\"Min2\",\"Min1\",\"Typ\"],\n",
    "                                         [0,1,2,3,4,5,6,7,8])\n",
    "trainmoddf.FireplaceQu = trainmoddf.FireplaceQu.replace([np.nan,\"Po\",\"Fa\",\"TA\",\"Gd\",\"Ex\"],[0,1,2,3,4,5])\n",
    "trainmoddf.GarageFinish = trainmoddf.GarageFinish.replace([np.nan,\"Unf\",\"RFn\",\"Fin\"],[0,1,2,3])\n",
    "trainmoddf.GarageQual = trainmoddf.GarageQual.replace([np.nan,\"Po\",\"Fa\",\"TA\",\"Gd\",\"Ex\"],[0,1,2,3,4,5])\n",
    "trainmoddf.GarageCond = trainmoddf.GarageCond.replace([np.nan,\"Po\",\"Fa\",\"TA\",\"Gd\",\"Ex\"],[0,1,2,3,4,5])\n",
    "trainmoddf.PavedDrive = trainmoddf.PavedDrive.replace([\"N\",\"P\",\"Y\"],[0,1,2])\n",
    "trainmoddf.Fence = trainmoddf.Fence.replace([np.nan,\"MnWw\",\"GdWo\",\"MnPrv\",\"GdPrv\"],[0,1,2,3,4])\n",
    "trainmoddf.GarageType = trainmoddf.GarageType.replace(np.nan,\"No Garage\")\n",
    "trainmoddf.MiscFeature = trainmoddf.MiscFeature.replace(np.nan,\"No Feature\")\n",
    "trainmoddf.PoolQC = trainmoddf.PoolQC.replace([np.nan,\"Fa\",\"TA\",\"Gd\",\"Ex\"],[0,1,2,3,4])"
   ]
  },
  {
   "cell_type": "markdown",
   "metadata": {},
   "source": [
    "# 4. Get dummies for remaining categorical data"
   ]
  },
  {
   "cell_type": "code",
   "execution_count": 8,
   "metadata": {},
   "outputs": [
    {
     "name": "stdout",
     "output_type": "stream",
     "text": [
      "(2919, 248)\n"
     ]
    }
   ],
   "source": [
    "## Get dummies of the categorical data\n",
    "dummy = pd.get_dummies(trainmoddf)\n",
    "print(dummy.shape)\n",
    "dummy.reset_index(inplace=True)\n",
    "dummy.drop(\"index\",1,inplace=True)"
   ]
  },
  {
   "cell_type": "markdown",
   "metadata": {},
   "source": [
    "# 5. Splitting train and test data"
   ]
  },
  {
   "cell_type": "code",
   "execution_count": 9,
   "metadata": {},
   "outputs": [
    {
     "name": "stdout",
     "output_type": "stream",
     "text": [
      "(1460, 79)\n",
      "(1459, 79)\n",
      "(1460, 248)\n",
      "(1459, 248)\n"
     ]
    }
   ],
   "source": [
    "train_dummy = dummy.iloc[0:len(housetraindf)]\n",
    "test_dummy = dummy.iloc[len(housetraindf):]\n",
    "\n",
    "print(housetraindf.shape)\n",
    "print(housetestdf.shape)\n",
    "print(train_dummy.shape)\n",
    "print(test_dummy.shape)"
   ]
  },
  {
   "cell_type": "markdown",
   "metadata": {},
   "source": [
    "# 6. Outlier Removal"
   ]
  },
  {
   "cell_type": "code",
   "execution_count": 10,
   "metadata": {},
   "outputs": [],
   "source": [
    "row_name = housetraindf.GrLivArea[housetraindf.GrLivArea > 4000].index\n",
    "train_dummy.drop(train_dummy.index[row_name],inplace=True)\n",
    "target.drop(target.index[row_name],inplace=True)\n",
    "test_dummy.fillna(0,inplace=True)"
   ]
  },
  {
   "cell_type": "markdown",
   "metadata": {},
   "source": [
    "# 7. Split Train and Test"
   ]
  },
  {
   "cell_type": "code",
   "execution_count": 11,
   "metadata": {},
   "outputs": [],
   "source": [
    "train = train_dummy\n",
    "test = test_dummy\n",
    "target = target\n",
    "test_id = pd.read_csv('test.csv',header=0,usecols=[\"Id\"])\n",
    "# test_id = pd.read_csv(\"input/test.csv\",header=0,usecols=[\"Id\"])\n",
    "x_train,x_val,y_target,y_val = train_test_split(train,target,random_state = 0)"
   ]
  },
  {
   "cell_type": "markdown",
   "metadata": {},
   "source": [
    "# 8. Run Grid Search for hyper parameter tuning "
   ]
  },
  {
   "cell_type": "code",
   "execution_count": 12,
   "metadata": {},
   "outputs": [
    {
     "name": "stdout",
     "output_type": "stream",
     "text": [
      "Ridge Best Estimator \n",
      "Ridge(alpha=10.0, copy_X=True, fit_intercept=True, max_iter=None,\n",
      "      normalize=False, random_state=None, solver='auto', tol=0.001)\n",
      "Lasso Best Estimator \n",
      "Lasso(alpha=0.02, copy_X=True, fit_intercept=True, max_iter=1000,\n",
      "      normalize=False, positive=False, precompute=False, random_state=None,\n",
      "      selection='cyclic', tol=0.0001, warm_start=False)\n",
      "ElasticNet Best Estimator \n",
      "ElasticNet(alpha=0.02, copy_X=True, fit_intercept=True, l1_ratio=0,\n",
      "           max_iter=1000, normalize=False, positive=False, precompute=False,\n",
      "           random_state=None, selection='cyclic', tol=0.0001, warm_start=False)\n",
      "Decision Tree Best Estimator \n",
      "Pipeline(memory=None,\n",
      "         steps=[('decisiontreeregressor',\n",
      "                 DecisionTreeRegressor(ccp_alpha=0.0, criterion='mse',\n",
      "                                       max_depth=7, max_features=None,\n",
      "                                       max_leaf_nodes=None,\n",
      "                                       min_impurity_decrease=0.0,\n",
      "                                       min_impurity_split=None,\n",
      "                                       min_samples_leaf=10, min_samples_split=2,\n",
      "                                       min_weight_fraction_leaf=0.0,\n",
      "                                       presort='deprecated', random_state=None,\n",
      "                                       splitter='best'))],\n",
      "         verbose=False)\n"
     ]
    }
   ],
   "source": [
    "from sklearn.linear_model import LinearRegression\n",
    "from sklearn.linear_model import Ridge\n",
    "from sklearn.linear_model import Lasso\n",
    "from sklearn.linear_model import ElasticNet\n",
    "from sklearn.ensemble import BaggingRegressor\n",
    "from sklearn.ensemble import AdaBoostRegressor\n",
    "from sklearn.tree import DecisionTreeRegressor\n",
    "from sklearn.ensemble import GradientBoostingRegressor\n",
    "from sklearn import tree\n",
    "from sklearn.pipeline import make_pipeline\n",
    "\n",
    "alpha = np.array([0.02, 0.024, 0.025, 0.026, 0.03,0.1,1,10,100,290,500,100])\n",
    "# alpha = [0.001, 0.01, 0.1, 1, 10, 100, 1000]\n",
    "l1_ratio = [0, 0.1, 0.2, 0.3, 0.4, 0.5, 0.6, 0.7, 0.8, 0.9, 1]\n",
    "elastic_net = ElasticNet(alpha=1, l1_ratio=0.5).fit(x_train,y_target)\n",
    "\n",
    "ridge_model = Ridge()\n",
    "ridgegrid = GridSearchCV(estimator=ridge_model, param_grid=dict(alpha=alpha))\n",
    "ridgegrid.fit(x_train,y_target)\n",
    "lasso_model = Lasso()\n",
    "lassogrid = GridSearchCV(estimator=lasso_model, param_grid=dict(alpha=alpha))\n",
    "lassogrid.fit(x_train,y_target)\n",
    "elastic_model = elastic_net\n",
    "elasticgrid = GridSearchCV(estimator=elastic_model, param_grid=dict(alpha=alpha, l1_ratio=l1_ratio))\n",
    "elasticgrid.fit(x_train,y_target)\n",
    "desisiontree_model = make_pipeline(tree.DecisionTreeRegressor())\n",
    "depths = np.arange(1, 21)\n",
    "num_leafs = [1, 5, 10, 20, 50, 100]\n",
    "param_grid = [{'decisiontreeregressor__max_depth':depths,\n",
    "              'decisiontreeregressor__min_samples_leaf':num_leafs}]\n",
    "decisiontreegrid= GridSearchCV(estimator=desisiontree_model, param_grid=param_grid,)\n",
    "decisiontreegrid = decisiontreegrid.fit(x_train, y_target)\n",
    "\n",
    "\n",
    "# print(grid)\n",
    "# # summarize the results of the grid search\n",
    "# print(grid.best_score_)\n",
    "print(\"Ridge Best Estimator \")\n",
    "print(ridgegrid.best_estimator_)\n",
    "print(\"Lasso Best Estimator \" )\n",
    "print(lassogrid.best_estimator_)\n",
    "print(\"ElasticNet Best Estimator \" )\n",
    "print(elasticgrid.best_estimator_)\n",
    "print(\"Decision Tree Best Estimator \" )\n",
    "print(decisiontreegrid.best_estimator_)"
   ]
  },
  {
   "cell_type": "markdown",
   "metadata": {},
   "source": [
    "# 9. Run all model with the best estimator got from Grid Search CV"
   ]
  },
  {
   "cell_type": "code",
   "execution_count": 13,
   "metadata": {},
   "outputs": [],
   "source": [
    "## All the algorithms that I ran with best hyper tuning parameters from Grid Search CV\n",
    "\n",
    "from sklearn.linear_model import LinearRegression\n",
    "from sklearn.linear_model import Ridge\n",
    "from sklearn.linear_model import Lasso\n",
    "from sklearn.linear_model import ElasticNet\n",
    "from sklearn.ensemble import BaggingRegressor\n",
    "from sklearn.ensemble import AdaBoostRegressor\n",
    "from sklearn.tree import DecisionTreeRegressor\n",
    "from sklearn.ensemble import GradientBoostingRegressor\n",
    "from sklearn import tree\n",
    "from sklearn.pipeline import make_pipeline\n",
    "\n",
    "model_name = [\"Linear\",\"Ridge\",\"Lasso\",\"Elastic\",\"Bagging\",\"Adaboost\",\"Decision Tree\",\"Gradient Boosting\"]\n",
    "model_l = []\n",
    "linear = LinearRegression().fit(x_train,y_target).predict(x_val)\n",
    "ridge = Ridge(alpha=10, copy_X=True, fit_intercept=False, max_iter=None,\n",
    "      normalize=False, random_state=0, solver='cholesky', tol=0.001).fit(x_train,y_target).predict(x_val)\n",
    "lasso = Lasso(alpha=0.02, copy_X=True, fit_intercept=True, max_iter=1000,\n",
    "      normalize=False, positive=False, precompute=False, random_state=0,\n",
    "      selection='cyclic', tol=0.0001, warm_start=False).fit(x_train,y_target).predict(x_val)\n",
    "elastic = ElasticNet(alpha=0.001, copy_X=True, fit_intercept=True, l1_ratio=0.5,\n",
    "           max_iter=1000, normalize=False, positive=False, precompute=False,\n",
    "           random_state=0, selection='cyclic', tol=0.0001, warm_start=False).fit(x_train,y_target).predict(x_val)\n",
    "bagging = BaggingRegressor(base_estimator=DecisionTreeRegressor(ccp_alpha=0.0, criterion='mse',\n",
    "                                       max_depth=7, max_features=None,\n",
    "                                       max_leaf_nodes=None,\n",
    "                                       min_impurity_decrease=0.0,\n",
    "                                       min_impurity_split=None,\n",
    "                                       min_samples_leaf=10, min_samples_split=2,\n",
    "                                       min_weight_fraction_leaf=0.0,\n",
    "                                       presort='deprecated', random_state=0,\n",
    "                                       splitter='best')).fit(x_train,y_target).predict(x_val)\n",
    "boosting = AdaBoostRegressor(base_estimator=DecisionTreeRegressor(ccp_alpha=0.0, criterion='mse',\n",
    "                                       max_depth=7, max_features=None,\n",
    "                                       max_leaf_nodes=None,\n",
    "                                       min_impurity_decrease=0.0,\n",
    "                                       min_impurity_split=None,\n",
    "                                       min_samples_leaf=10, min_samples_split=2,\n",
    "                                       min_weight_fraction_leaf=0.0,\n",
    "                                       presort='deprecated', random_state=0,\n",
    "                                       splitter='best')).fit(x_train,y_target).predict(x_val)\n",
    "decision = DecisionTreeRegressor(ccp_alpha=0.0, criterion='mse',\n",
    "                                       max_depth=7, max_features=None,\n",
    "                                       max_leaf_nodes=None,\n",
    "                                       min_impurity_decrease=0.0,\n",
    "                                       min_impurity_split=None,\n",
    "                                       min_samples_leaf=10, min_samples_split=2,\n",
    "                                       min_weight_fraction_leaf=0.0,\n",
    "                                       presort='deprecated', random_state=0,\n",
    "                                       splitter='best').fit(x_train,y_target).predict(x_val)\n",
    "Gradient = GradientBoostingRegressor(n_estimators=120,learning_rate=0.09,max_depth=5,max_features=68,random_state=0).fit(x_train,y_target).predict(x_val)\n",
    "model_l.append(linear)\n",
    "model_l.append(ridge),\n",
    "model_l.append(lasso)\n",
    "model_l.append(elastic)\n",
    "model_l.append(bagging)\n",
    "model_l.append(boosting)\n",
    "model_l.append(decision)\n",
    "model_l.append(Gradient)"
   ]
  },
  {
   "cell_type": "markdown",
   "metadata": {},
   "source": [
    "# 10. Calculate the RMSE for all the predicted models"
   ]
  },
  {
   "cell_type": "code",
   "execution_count": 14,
   "metadata": {},
   "outputs": [
    {
     "name": "stdout",
     "output_type": "stream",
     "text": [
      "Linear   Root Mean Square Error  -- 0.11625304821940145\n",
      "Ridge   Root Mean Square Error  -- 0.10970645564090685\n",
      "Lasso   Root Mean Square Error  -- 0.14890206371241946\n",
      "Elastic   Root Mean Square Error  -- 0.10656895878641695\n",
      "Bagging   Root Mean Square Error  -- 0.13850429043317955\n",
      "Adaboost   Root Mean Square Error  -- 0.1211984174817365\n",
      "Decision Tree   Root Mean Square Error  -- 0.18155729320575034\n",
      "Gradient Boosting   Root Mean Square Error  -- 0.11177915678293805\n"
     ]
    }
   ],
   "source": [
    "\n",
    "def accuracy_report(name, predicted,original):\n",
    "    error = np.sqrt((mean_squared_error(predicted,original)))\n",
    "    print(name, \"  Root Mean Square Error \",\"--\", error)\n",
    "    return error\n",
    "\n",
    "\n",
    "acc_l= []\n",
    "for i in range(len(model_l)):\n",
    "    acc = accuracy_report(model_name[i],model_l[i],y_val)\n",
    "    acc_l.append(acc)"
   ]
  },
  {
   "cell_type": "markdown",
   "metadata": {},
   "source": [
    "# 11. Plot the RMSE across each models as barplot for better representation."
   ]
  },
  {
   "cell_type": "code",
   "execution_count": 19,
   "metadata": {},
   "outputs": [
    {
     "data": {
      "text/plain": [
       "Text(0.5, 1.0, \"Algorithm's Root Mean Squared Error\")"
      ]
     },
     "execution_count": 19,
     "metadata": {},
     "output_type": "execute_result"
    },
    {
     "data": {
      "image/png": "[encoded data removed]",
      "text/plain": [
       "<Figure size 842.4x595.44 with 1 Axes>"
      ]
     },
     "metadata": {},
     "output_type": "display_data"
    }
   ],
   "source": [
    "\n",
    "sns.set(rc={'figure.figsize':(11.7,8.27)})\n",
    "algorithm = sns.barplot(x = model_name,y=acc_l)\n",
    "algorithm.set(xlabel=\" Algorithms\",ylabel= \"Root Mean Square Error\")\n",
    "algorithm.set_title(\"Algorithm's Root Mean Squared Error\")"
   ]
  },
  {
   "cell_type": "markdown",
   "metadata": {},
   "source": [
    "# 12. Calculate R2 for all the predicted models"
   ]
  },
  {
   "cell_type": "code",
   "execution_count": 16,
   "metadata": {},
   "outputs": [
    {
     "name": "stdout",
     "output_type": "stream",
     "text": [
      "Linear   R2 Value  -- 0.913925573184549\n",
      "Ridge   R2 Value  -- 0.9233468847732251\n",
      "Lasso   R2 Value  -- 0.8587895376932877\n",
      "Elastic   R2 Value  -- 0.9276685974796877\n",
      "Bagging   R2 Value  -- 0.877822314295904\n",
      "Adaboost   R2 Value  -- 0.9064466508913507\n",
      "Decision Tree   R2 Value  -- 0.7900611375334884\n",
      "Gradient Boosting   R2 Value  -- 0.9204230848679789\n"
     ]
    }
   ],
   "source": [
    "from sklearn.linear_model import LinearRegression\n",
    "from sklearn.metrics import mean_squared_error,r2_score\n",
    "\n",
    "def R2_report(name, original,predicted):\n",
    "#     error = np.sqrt((mean_squared_error(predicted,original)))\n",
    "    r2 = r2_score(original, predicted)\n",
    "    print(name, \"  R2 Value \",\"--\", r2)\n",
    "    return r2\n",
    "\n",
    "\n",
    "scr_l= []\n",
    "for i in range(len(model_l)):\n",
    "    scr = R2_report(model_name[i],y_val,model_l[i])\n",
    "    scr_l.append(scr*100)"
   ]
  },
  {
   "cell_type": "markdown",
   "metadata": {},
   "source": [
    "# 13. Plot the R2 across each models as barplot for better representation"
   ]
  },
  {
   "cell_type": "code",
   "execution_count": 20,
   "metadata": {},
   "outputs": [
    {
     "data": {
      "text/plain": [
       "Text(0.5, 1.0, \"Algorithm's R2\")"
      ]
     },
     "execution_count": 20,
     "metadata": {},
     "output_type": "execute_result"
    },
    {
     "data": {
      "image/png": "[encoded data removed]",
      "text/plain": [
       "<Figure size 842.4x595.44 with 1 Axes>"
      ]
     },
     "metadata": {},
     "output_type": "display_data"
    }
   ],
   "source": [
    "sns.set(rc={'figure.figsize':(11.7,8.27)})\n",
    "algorithm = sns.barplot(x = model_name,y=scr_l)\n",
    "algorithm.set(xlabel=\" Algorithms\",ylabel= \"R2\")\n",
    "algorithm.set_title(\"Algorithm's R2\")"
   ]
  },
  {
   "cell_type": "code",
   "execution_count": null,
   "metadata": {},
   "outputs": [],
   "source": []
  }
 ],
 "metadata": {
  "kernelspec": {
   "display_name": "Python 3",
   "language": "python",
   "name": "python3"
  },
  "language_info": {
   "codemirror_mode": {
    "name": "ipython",
    "version": 3
   },
   "file_extension": ".py",
   "mimetype": "text/x-python",
   "name": "python",
   "nbconvert_exporter": "python",
   "pygments_lexer": "ipython3",
   "version": "3.7.6"
  }
 },
 "nbformat": 4,
 "nbformat_minor": 4
}
